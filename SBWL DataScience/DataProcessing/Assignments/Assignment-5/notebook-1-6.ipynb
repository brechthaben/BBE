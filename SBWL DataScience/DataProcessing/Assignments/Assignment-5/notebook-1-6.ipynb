{
 "cells": [
  {
   "cell_type": "markdown",
   "metadata": {
    "deletable": false,
    "editable": false,
    "nbgrader": {
     "cell_type": "markdown",
     "checksum": "08fecd06cada05dc2b74c825e68b8924",
     "grade": false,
     "grade_id": "cell-e37bf3469fc1e9d7",
     "locked": true,
     "schema_version": 3,
     "solution": false,
     "task": false
    }
   },
   "source": [
    "Before you turn this problem in, make sure everything runs as expected. First, **restart the kernel** (in the menubar, select Kernel$\\rightarrow$Restart) and then **run all cells** (in the menubar, select Cell$\\rightarrow$Run All). Do NOT add any cells to the notebook!\n",
    "\n",
    "Make sure you fill in any place that says `YOUR CODE HERE` or _YOUR ANSWER HERE_ , as well as your name and group below:"
   ]
  },
  {
   "cell_type": "code",
   "execution_count": 1,
   "metadata": {},
   "outputs": [],
   "source": [
    "NAME = \"\"\n",
    "STUDENTID = \"\"\n",
    "GROUPID = \"\";"
   ]
  },
  {
   "cell_type": "markdown",
   "metadata": {
    "deletable": false,
    "editable": false,
    "nbgrader": {
     "cell_type": "markdown",
     "checksum": "b4a2a4b93859de036464fc9d6382039f",
     "grade": false,
     "grade_id": "cell-547da1b1777ed8e0",
     "locked": true,
     "schema_version": 3,
     "solution": false,
     "task": false
    }
   },
   "source": [
    "# Assignment 5 (Group)\n",
    "In Assignment 2, as a group, you trained yourselves in accessing and characterising two data sources. You also sketched out a data-science project based on these data sources. In this assignment, based on this project idea, you should select, implement, and describe 3 appropriate visualisations.\n",
    "\n",
    "The following materials provide the necessary background:\n",
    "* the slide deck on visualisations (Unit 5) and the corresponding notebook;\n",
    "* Chapter 3 of \"Data Science from Scratch\"\n",
    "* the mandatory read on \"Task-Based Effectiveness of Basic Visualizations\" available from MyLearn: _B. Saket, A. Endert and Ç. Demiralp (2019), \"Task-Based Effectiveness of Basic Visualizations,\" in IEEE Transactions on Visualization and Computer Graphics, vol. 25, no. 7, pp. 2505-2512, DOI: 10.1109/TVCG.2018.2829750_\n",
    "\n",
    "Requirements:\n",
    "* Required reading: Study the paper by Saket et al. (2019) and explicitly refer to the task types, pros & cons of different visualisations as identified by these authors when answering the questions on this assignment.\n",
    "* The visualisation should be appropriate the chosen tasks on the data sets.\n",
    "* You should use at least two different types of visualisations. Even if two tasks in two steps below were identical (e.g., two aggregation tasks), you would be expected to choose a different visualisation for each. \n",
    "* As contrast to Assignment 2, you will be expected to use `pandas` to represent and to prepare the data sets for visualisation.\n",
    "* As for the data sets collected during Assignment 2, to avoid confusion:\n",
    "  * Use the genuine ones, not the manipulated ones (having anomalies introduced). \n",
    "  * If you have worked with excerpts (samples) from the original and genuine datasets, you can continue to use these. You are also free to use the complete datasets, but this is not expected.\n",
    "  * Please stick to your project description in Assignment 2 when choosing tasks and corresponding visualisations."
   ]
  },
  {
   "cell_type": "markdown",
   "metadata": {
    "deletable": false,
    "editable": false,
    "nbgrader": {
     "cell_type": "markdown",
     "checksum": "e4e1ae2e0b2b37eae2abbc0f9d3f714d",
     "grade": false,
     "grade_id": "cell-41258b830f38673b",
     "locked": true,
     "schema_version": 3,
     "solution": false,
     "task": false
    }
   },
   "source": [
    "-----\n",
    "## Step 1 (6 points)\n",
    "\n",
    "Select, implement and describe one visualisation for data source 1 (in isolation from data source 2)."
   ]
  },
  {
   "cell_type": "code",
   "execution_count": null,
   "metadata": {
    "deletable": false,
    "nbgrader": {
     "cell_type": "code",
     "checksum": "85e303e23b787c6ffa49284b473073db",
     "grade": true,
     "grade_id": "cell-f5c21aa256cedf80",
     "locked": false,
     "points": 4,
     "schema_version": 3,
     "solution": true,
     "task": false
    }
   },
   "outputs": [],
   "source": [
    "# YOUR CODE HERE\n",
    "import pandas as pd\n",
    "import matplotlib.pyplot as plt\n",
    "\n",
    "# Step 1: Line chart of average percentage of income groups over time\n",
    "\n",
    "\n",
    "# Load your data\n",
    "df = pd.read_csv(\"final_processed_data.csv\")  # adjust path if needed\n",
    "\n",
    "# Select only the needed columns and drop rows with missing values\n",
    "percentage_cols = ['eli_pct', 'vli_pct', 'li_pct', 'mi_pct', 'abmi_pct']\n",
    "line_df = df[['year'] + percentage_cols].dropna()\n",
    "\n",
    "# Group by year and calculate the average percentage per income group\n",
    "avg_percents_per_year = line_df.groupby('year')[percentage_cols].mean()\n",
    "\n",
    "# Plot the line chart\n",
    "plt.figure(figsize=(10, 6))\n",
    "for col in percentage_cols:\n",
    "    plt.plot(avg_percents_per_year.index, avg_percents_per_year[col], label=col.replace('_pct', '').upper())\n",
    "\n",
    "plt.title('Average Percentage of Households by Income Group Over Time')\n",
    "plt.xlabel('Year')\n",
    "plt.ylabel('Average Percentage of Households (%)')\n",
    "plt.legend(title='Income Group')\n",
    "plt.grid(True)\n",
    "plt.tight_layout()\n",
    "plt.show()\n",
    "\n",
    "#raise NotImplementedError()"
   ]
  },
  {
   "cell_type": "markdown",
   "metadata": {
    "deletable": false,
    "editable": false,
    "nbgrader": {
     "cell_type": "markdown",
     "checksum": "165b41745efd30d40fe52c446b458b2b",
     "grade": false,
     "grade_id": "cell-c98a5a86ee4b41f8",
     "locked": true,
     "schema_version": 3,
     "solution": false,
     "task": false
    }
   },
   "source": [
    "Document your decision and describe the resulting visualisation. In your answer, cover the following aspects by referring explicitly to Saket et al. (2019):\n",
    "\n",
    "* What is the task according to Saket et al. (2019) on the data source supported by the chosen visualisation?\n",
    "* Why is the chosen visualisation effective for the given task?\n",
    "* What does the visualisation show exactly?\n",
    "* What does the visualisation contribute to answering your project's questions?"
   ]
  },
  {
   "cell_type": "markdown",
   "metadata": {
    "deletable": false,
    "nbgrader": {
     "cell_type": "markdown",
     "checksum": "7d12d6f369e868dd946a69ce1cc7ac7c",
     "grade": true,
     "grade_id": "cell-62681c4240d2770f",
     "locked": false,
     "points": 2,
     "schema_version": 3,
     "solution": true,
     "task": false
    }
   },
   "source": [
    "YOUR ANSWER HERE"
   ]
  },
  {
   "cell_type": "markdown",
   "metadata": {
    "deletable": false,
    "editable": false,
    "nbgrader": {
     "cell_type": "markdown",
     "checksum": "af76f135495844516d647c09c36e5d69",
     "grade": false,
     "grade_id": "cell-716d568e128ba2a7",
     "locked": true,
     "schema_version": 3,
     "solution": false,
     "task": false
    }
   },
   "source": [
    "------\n",
    "## Step 2 (6 points)\n",
    "\n",
    "Select, implement and describe one visualisation for data source 2 (in isolation from data source 1)."
   ]
  },
  {
   "cell_type": "code",
   "execution_count": null,
   "metadata": {
    "deletable": false,
    "nbgrader": {
     "cell_type": "code",
     "checksum": "37fcd41ffd943e01cfe101fb587471af",
     "grade": true,
     "grade_id": "cell-06384a01f3b8fd45",
     "locked": false,
     "points": 4,
     "schema_version": 3,
     "solution": true,
     "task": false
    }
   },
   "outputs": [],
   "source": [
    "import pandas as pd\n",
    "import matplotlib.pyplot as plt\n",
    "import matplotlib.ticker as mticker\n",
    "import os  # Import os module for path manipulation\n",
    "\n",
    "# --- Define File Path ---\n",
    "data_folder = 'data'\n",
    "file_name = 'data_notebook-notebook-1_dataset2.json'\n",
    "# Construct the full path regardless of operating system\n",
    "file_path = os.path.join(data_folder, file_name)\n",
    "\n",
    "try:\n",
    "    # --- Data Loading from JSON ---\n",
    "    print(f\"Attempting to load data from: {file_path}\")\n",
    "    # Use pd.read_json to load the file\n",
    "    # Assumes the JSON is a list of records (dictionaries)\n",
    "    df = pd.read_json(file_path)\n",
    "    print(f\"Successfully loaded {len(df)} records.\")\n",
    "    # Optional: Display first few rows and columns to verify\n",
    "    # print(\"DataFrame columns:\", df.columns.tolist())\n",
    "    # print(\"First 5 rows:\\n\", df.head())\n",
    "\n",
    "    # --- Data Processing ---\n",
    "\n",
    "    # Make sure the required columns exist\n",
    "    required_cols = ['crm_cd_desc', 'date_occ']\n",
    "    if not all(col in df.columns for col in required_cols):\n",
    "        missing = [col for col in required_cols if col not in df.columns]\n",
    "        raise ValueError(f\"Missing required columns in JSON file: {missing}\")\n",
    "\n",
    "    # 1. Convert 'date_occ' to datetime objects, coercing errors\n",
    "    df['date_occ'] = pd.to_datetime(df['date_occ'], errors='coerce')\n",
    "    # Remove rows where date conversion failed or date is missing\n",
    "    df.dropna(subset=['date_occ'], inplace=True)\n",
    "    print(f\"{len(df)} records remaining after date cleaning.\")\n",
    "\n",
    "    # 2. Find the overall Top 5 crime types\n",
    "    # Handle potential NaN/None values in crime description before value_counts\n",
    "    df.dropna(subset=['crm_cd_desc'], inplace=True)\n",
    "    crime_counts = df['crm_cd_desc'].value_counts()\n",
    "    if crime_counts.empty:\n",
    "        print(\"No crime descriptions found after cleaning. Cannot proceed.\")\n",
    "        exit()\n",
    "\n",
    "    top_5_crime_list = crime_counts.head(5).index.tolist()\n",
    "    print(f\"Top 5 Crime Types determined: {top_5_crime_list}\")\n",
    "\n",
    "    # 3. Filter the DataFrame to include only the top 5 crimes\n",
    "    df_top5 = df[df['crm_cd_desc'].isin(top_5_crime_list)].copy() # Use .copy() for safety\n",
    "    print(f\"{len(df_top5)} records belong to the top 5 crime types.\")\n",
    "\n",
    "    if df_top5.empty:\n",
    "        print(\"No data records found for the top 5 crime types. Cannot create plot.\")\n",
    "        exit()\n",
    "\n",
    "    # 4. Aggregate counts over time (e.g., monthly) for these crimes\n",
    "    # Set date as index for easy resampling\n",
    "    df_top5.set_index('date_occ', inplace=True)\n",
    "\n",
    "    # Resample to monthly frequency ('ME' for Month End) and count occurrences per crime type\n",
    "    # Use 'ME' for Month End frequency. Adjust 'YE' for Year End, 'QE' for Quarter End etc. if needed.\n",
    "    # Group temporary by the resampled index AND the crime description\n",
    "    crime_over_time = df_top5.groupby([pd.Grouper(freq='ME'), 'crm_cd_desc']).size()\n",
    "\n",
    "    # 5. Restructure data for plotting: Use unstack() to turn crime types into columns\n",
    "    # This creates a DataFrame where rows are time periods and columns are crime types\n",
    "    crime_pivot = crime_over_time.unstack(level='crm_cd_desc', fill_value=0)\n",
    "\n",
    "    # Ensure all top 5 crimes are columns, even if they had 0 counts in some periods\n",
    "    for crime in top_5_crime_list:\n",
    "        if crime not in crime_pivot.columns:\n",
    "            crime_pivot[crime] = 0 # Add the column with zeros if missing\n",
    "\n",
    "    # --- Visualization ---\n",
    "    if crime_pivot.empty:\n",
    "         print(\"No data available for the top 5 crimes in the selected time range to plot.\")\n",
    "    else:\n",
    "        print(\"\\nData prepared for plotting (first 5 rows):\")\n",
    "        print(crime_pivot.head())\n",
    "        print(f\"\\nPlotting data from {crime_pivot.index.min()} to {crime_pivot.index.max()}\")\n",
    "\n",
    "        # Create the line chart\n",
    "        ax = crime_pivot[top_5_crime_list].plot(kind='line', figsize=(15, 8), marker='.') # Added markers\n",
    "\n",
    "        # --- Customize Plot ---\n",
    "        ax.set_title('Monthly Frequency of Top 5 Crime Types Over Time')\n",
    "        ax.set_xlabel('Month')\n",
    "        ax.set_ylabel('Number of Reported Incidents')\n",
    "        # Place legend outside of the plot area to avoid obscuring lines\n",
    "        ax.legend(title='Crime Type', bbox_to_anchor=(1.05, 1), loc='upper left')\n",
    "        ax.grid(True, linestyle='--', which='major', color='grey', alpha=.25) # Fainter grid lines\n",
    "\n",
    "        # Ensure y-axis shows integer counts starting from 0\n",
    "        ax.yaxis.set_major_locator(mticker.MaxNLocator(integer=True))\n",
    "        ax.set_ylim(bottom=0)\n",
    "\n",
    "        plt.xticks(rotation=45, ha='right') # Rotate labels and align them\n",
    "        # Adjust layout automatically to make space for labels and legend\n",
    "        # The rect parameter shrinks the plot area slightly to fit the legend: [left, bottom, right, top]\n",
    "        plt.tight_layout(rect=[0, 0, 0.85, 1])\n",
    "\n",
    "        # --- Display Plot ---\n",
    "        plt.show()\n",
    "\n",
    "# --- Error Handling ---\n",
    "except FileNotFoundError:\n",
    "    print(f\"Error: File not found at '{file_path}'\")\n",
    "    print(\"Please ensure the 'data' folder exists in the same directory as the script and contains the file.\")\n",
    "except ValueError as ve: # Catches errors from missing columns or date parsing issues\n",
    "    print(f\"Data Processing Error: {ve}\")\n",
    "except Exception as T:\n",
    "    # Catch any other unexpected errors during loading or processing\n",
    "    print(f\"An unexpected error occurred: {T}\")\n",
    "    # print(\"Check JSON file format, permissions, and data integrity.\")\n"
   ]
  },
  {
   "cell_type": "markdown",
   "metadata": {
    "deletable": false,
    "editable": false,
    "nbgrader": {
     "cell_type": "markdown",
     "checksum": "1b92605cf904f338b840d4e92fb0ab93",
     "grade": false,
     "grade_id": "cell-773b0383bfb8ea05",
     "locked": true,
     "schema_version": 3,
     "solution": false,
     "task": false
    }
   },
   "source": [
    "Document your decision and describe the resulting visualisation. In your answer, cover the following aspects by referring explicitly to Saket et al. (2019):\n",
    "\n",
    "* What is the task according to Saket et al. (2019) on the data source supported by the chosen visualisation?\n",
    "* Why is the chosen visualisation effective for the given task?\n",
    "* What does the visualisation show exactly?\n",
    "* What does the visualisation contribute to answering your project's questions?"
   ]
  },
  {
   "cell_type": "markdown",
   "metadata": {
    "deletable": false,
    "nbgrader": {
     "cell_type": "markdown",
     "checksum": "70f9c93b079b85b8ff73115f2d84bc55",
     "grade": true,
     "grade_id": "cell-55569ce66deb1db2",
     "locked": false,
     "points": 2,
     "schema_version": 3,
     "solution": true,
     "task": false
    }
   },
   "source": [
    "YOUR ANSWER HERE"
   ]
  },
  {
   "cell_type": "markdown",
   "metadata": {
    "deletable": false,
    "editable": false,
    "nbgrader": {
     "cell_type": "markdown",
     "checksum": "ed58851b8a05d2f85ce175ca5557eb21",
     "grade": false,
     "grade_id": "cell-41258b830f38673baa",
     "locked": true,
     "schema_version": 3,
     "solution": false,
     "task": false
    }
   },
   "source": [
    "-----\n",
    "## Step 3  (7 points)\n",
    "\n",
    "Merge the two data sets (or, relevant subsets thereof) based on your project idea from Assignment 2. Select, implement and describe one visualisation on the combined data set. Make sure you visualize variables taken from both original data sets."
   ]
  },
  {
   "cell_type": "code",
   "execution_count": null,
   "metadata": {
    "deletable": false,
    "nbgrader": {
     "cell_type": "code",
     "checksum": "3aaf3a45eb8d36949f9e02fcb3dfea97",
     "grade": true,
     "grade_id": "cell-b485c10ffce5955c",
     "locked": false,
     "points": 5,
     "schema_version": 3,
     "solution": true,
     "task": false
    }
   },
   "outputs": [],
   "source": [
    "# YOUR CODE HERE\n",
    "raise NotImplementedError()"
   ]
  },
  {
   "cell_type": "markdown",
   "metadata": {
    "deletable": false,
    "editable": false,
    "nbgrader": {
     "cell_type": "markdown",
     "checksum": "ce0ff1f313f756be08f5e6f6c4a9f356",
     "grade": false,
     "grade_id": "cell-3c0ae5fb02e6f352",
     "locked": true,
     "schema_version": 3,
     "solution": false,
     "task": false
    }
   },
   "source": [
    "Document your decision and describe the resulting visualisation. In your answer, cover the following aspects by referring explicitly to Saket et al. (2019):\n",
    "\n",
    "* What is the task according to Saket et al. (2019) on the combined data set supported by the chosen visualisation?\n",
    "* Why is the chosen visualisation effective for the given task?\n",
    "* What does the visualisation show exactly?\n",
    "* What does the visualisation contribute to answering your project's questions?"
   ]
  },
  {
   "cell_type": "markdown",
   "metadata": {
    "deletable": false,
    "nbgrader": {
     "cell_type": "markdown",
     "checksum": "93cf6e7530dfb8ecc91c0f6b7496d1d6",
     "grade": true,
     "grade_id": "cell-bde7e30e877919a8",
     "locked": false,
     "points": 2,
     "schema_version": 3,
     "solution": true,
     "task": false
    }
   },
   "source": [
    "YOUR ANSWER HERE"
   ]
  },
  {
   "cell_type": "markdown",
   "metadata": {
    "deletable": false,
    "editable": false,
    "nbgrader": {
     "cell_type": "markdown",
     "checksum": "3c527eeae484320ff379c8835a02686a",
     "grade": false,
     "grade_id": "cell-1c3320479f4749e1",
     "locked": true,
     "schema_version": 3,
     "solution": false,
     "task": false
    }
   },
   "source": [
    "-----\n",
    "## Step 4  (1 points)\n",
    "\n",
    "Persist the merged dataset from Step 3 as a file."
   ]
  },
  {
   "cell_type": "code",
   "execution_count": null,
   "metadata": {
    "deletable": false,
    "nbgrader": {
     "cell_type": "code",
     "checksum": "6cafab2e2a0caec0b47775cd216004fc",
     "grade": true,
     "grade_id": "cell-7df195f7e47ef8d0",
     "locked": false,
     "points": 1,
     "schema_version": 3,
     "solution": true,
     "task": false
    }
   },
   "outputs": [],
   "source": [
    "# YOUR CODE HERE\n",
    "raise NotImplementedError()"
   ]
  }
 ],
 "metadata": {
  "kernelspec": {
   "display_name": "Python 3",
   "language": "python",
   "name": "python3"
  },
  "language_info": {
   "codemirror_mode": {
    "name": "ipython",
    "version": 3
   },
   "file_extension": ".py",
   "mimetype": "text/x-python",
   "name": "python",
   "nbconvert_exporter": "python",
   "pygments_lexer": "ipython3",
   "version": "3.12.10"
  }
 },
 "nbformat": 4,
 "nbformat_minor": 4
}
