{
 "cells": [
  {
   "cell_type": "markdown",
   "metadata": {
    "deletable": false,
    "editable": false,
    "nbgrader": {
     "cell_type": "markdown",
     "checksum": "08fecd06cada05dc2b74c825e68b8924",
     "grade": false,
     "grade_id": "cell-e37bf3469fc1e9d7",
     "locked": true,
     "schema_version": 3,
     "solution": false,
     "task": false
    }
   },
   "source": [
    "Before you turn this problem in, make sure everything runs as expected. First, **restart the kernel** (in the menubar, select Kernel$\\rightarrow$Restart) and then **run all cells** (in the menubar, select Cell$\\rightarrow$Run All). Do NOT add any cells to the notebook!\n",
    "\n",
    "Make sure you fill in any place that says `YOUR CODE HERE` or _YOUR ANSWER HERE_ , as well as your name and group below:"
   ]
  },
  {
   "cell_type": "code",
   "execution_count": null,
   "metadata": {},
   "outputs": [],
   "source": [
    "NAME = \"\"\n",
    "STUDENTID = \"\"\n",
    "GROUPID = \"\";"
   ]
  },
  {
   "cell_type": "markdown",
   "metadata": {
    "deletable": false,
    "editable": false,
    "nbgrader": {
     "cell_type": "markdown",
     "checksum": "b4a2a4b93859de036464fc9d6382039f",
     "grade": false,
     "grade_id": "cell-547da1b1777ed8e0",
     "locked": true,
     "schema_version": 3,
     "solution": false,
     "task": false
    }
   },
   "source": [
    "# Assignment 5 (Group)\n",
    "In Assignment 2, as a group, you trained yourselves in accessing and characterising two data sources. You also sketched out a data-science project based on these data sources. In this assignment, based on this project idea, you should select, implement, and describe 3 appropriate visualisations.\n",
    "\n",
    "The following materials provide the necessary background:\n",
    "* the slide deck on visualisations (Unit 5) and the corresponding notebook;\n",
    "* Chapter 3 of \"Data Science from Scratch\"\n",
    "* the mandatory read on \"Task-Based Effectiveness of Basic Visualizations\" available from MyLearn: _B. Saket, A. Endert and Ç. Demiralp (2019), \"Task-Based Effectiveness of Basic Visualizations,\" in IEEE Transactions on Visualization and Computer Graphics, vol. 25, no. 7, pp. 2505-2512, DOI: 10.1109/TVCG.2018.2829750_\n",
    "\n",
    "Requirements:\n",
    "* Required reading: Study the paper by Saket et al. (2019) and explicitly refer to the task types, pros & cons of different visualisations as identified by these authors when answering the questions on this assignment.\n",
    "* The visualisation should be appropriate the chosen tasks on the data sets.\n",
    "* You should use at least two different types of visualisations. Even if two tasks in two steps below were identical (e.g., two aggregation tasks), you would be expected to choose a different visualisation for each. \n",
    "* As contrast to Assignment 2, you will be expected to use `pandas` to represent and to prepare the data sets for visualisation.\n",
    "* As for the data sets collected during Assignment 2, to avoid confusion:\n",
    "  * Use the genuine ones, not the manipulated ones (having anomalies introduced). \n",
    "  * If you have worked with excerpts (samples) from the original and genuine datasets, you can continue to use these. You are also free to use the complete datasets, but this is not expected.\n",
    "  * Please stick to your project description in Assignment 2 when choosing tasks and corresponding visualisations."
   ]
  },
  {
   "cell_type": "markdown",
   "metadata": {
    "deletable": false,
    "editable": false,
    "nbgrader": {
     "cell_type": "markdown",
     "checksum": "e4e1ae2e0b2b37eae2abbc0f9d3f714d",
     "grade": false,
     "grade_id": "cell-41258b830f38673b",
     "locked": true,
     "schema_version": 3,
     "solution": false,
     "task": false
    }
   },
   "source": [
    "-----\n",
    "## Step 1 (6 points)\n",
    "\n",
    "Select, implement and describe one visualisation for data source 1 (in isolation from data source 2)."
   ]
  },
  {
   "cell_type": "code",
   "execution_count": null,
   "metadata": {
    "deletable": false,
    "nbgrader": {
     "cell_type": "code",
     "checksum": "85e303e23b787c6ffa49284b473073db",
     "grade": true,
     "grade_id": "cell-f5c21aa256cedf80",
     "locked": false,
     "points": 4,
     "schema_version": 3,
     "solution": true,
     "task": false
    }
   },
   "outputs": [],
   "source": [
    "# YOUR CODE HERE\n",
    "raise NotImplementedError()"
   ]
  },
  {
   "cell_type": "markdown",
   "metadata": {
    "deletable": false,
    "editable": false,
    "nbgrader": {
     "cell_type": "markdown",
     "checksum": "165b41745efd30d40fe52c446b458b2b",
     "grade": false,
     "grade_id": "cell-c98a5a86ee4b41f8",
     "locked": true,
     "schema_version": 3,
     "solution": false,
     "task": false
    }
   },
   "source": [
    "Document your decision and describe the resulting visualisation. In your answer, cover the following aspects by referring explicitly to Saket et al. (2019):\n",
    "\n",
    "* What is the task according to Saket et al. (2019) on the data source supported by the chosen visualisation?\n",
    "* Why is the chosen visualisation effective for the given task?\n",
    "* What does the visualisation show exactly?\n",
    "* What does the visualisation contribute to answering your project's questions?"
   ]
  },
  {
   "cell_type": "markdown",
   "metadata": {
    "deletable": false,
    "nbgrader": {
     "cell_type": "markdown",
     "checksum": "7d12d6f369e868dd946a69ce1cc7ac7c",
     "grade": true,
     "grade_id": "cell-62681c4240d2770f",
     "locked": false,
     "points": 2,
     "schema_version": 3,
     "solution": true,
     "task": false
    }
   },
   "source": [
    "YOUR ANSWER HERE"
   ]
  },
  {
   "cell_type": "markdown",
   "metadata": {
    "deletable": false,
    "editable": false,
    "nbgrader": {
     "cell_type": "markdown",
     "checksum": "af76f135495844516d647c09c36e5d69",
     "grade": false,
     "grade_id": "cell-716d568e128ba2a7",
     "locked": true,
     "schema_version": 3,
     "solution": false,
     "task": false
    }
   },
   "source": [
    "------\n",
    "## Step 2 (6 points)\n",
    "\n",
    "Select, implement and describe one visualisation for data source 2 (in isolation from data source 1)."
   ]
  },
  {
   "cell_type": "code",
   "execution_count": null,
   "metadata": {
    "deletable": false,
    "nbgrader": {
     "cell_type": "code",
     "checksum": "37fcd41ffd943e01cfe101fb587471af",
     "grade": true,
     "grade_id": "cell-06384a01f3b8fd45",
     "locked": false,
     "points": 4,
     "schema_version": 3,
     "solution": true,
     "task": false
    }
   },
   "outputs": [],
   "source": [
    "# YOUR CODE HERE\n",
    "raise NotImplementedError()"
   ]
  },
  {
   "cell_type": "markdown",
   "metadata": {
    "deletable": false,
    "editable": false,
    "nbgrader": {
     "cell_type": "markdown",
     "checksum": "1b92605cf904f338b840d4e92fb0ab93",
     "grade": false,
     "grade_id": "cell-773b0383bfb8ea05",
     "locked": true,
     "schema_version": 3,
     "solution": false,
     "task": false
    }
   },
   "source": [
    "Document your decision and describe the resulting visualisation. In your answer, cover the following aspects by referring explicitly to Saket et al. (2019):\n",
    "\n",
    "* What is the task according to Saket et al. (2019) on the data source supported by the chosen visualisation?\n",
    "* Why is the chosen visualisation effective for the given task?\n",
    "* What does the visualisation show exactly?\n",
    "* What does the visualisation contribute to answering your project's questions?"
   ]
  },
  {
   "cell_type": "markdown",
   "metadata": {
    "deletable": false,
    "nbgrader": {
     "cell_type": "markdown",
     "checksum": "70f9c93b079b85b8ff73115f2d84bc55",
     "grade": true,
     "grade_id": "cell-55569ce66deb1db2",
     "locked": false,
     "points": 2,
     "schema_version": 3,
     "solution": true,
     "task": false
    }
   },
   "source": [
    "YOUR ANSWER HERE"
   ]
  },
  {
   "cell_type": "markdown",
   "metadata": {
    "deletable": false,
    "editable": false,
    "nbgrader": {
     "cell_type": "markdown",
     "checksum": "ed58851b8a05d2f85ce175ca5557eb21",
     "grade": false,
     "grade_id": "cell-41258b830f38673baa",
     "locked": true,
     "schema_version": 3,
     "solution": false,
     "task": false
    }
   },
   "source": [
    "-----\n",
    "## Step 3  (7 points)\n",
    "\n",
    "Merge the two data sets (or, relevant subsets thereof) based on your project idea from Assignment 2. Select, implement and describe one visualisation on the combined data set. Make sure you visualize variables taken from both original data sets."
   ]
  },
  {
   "cell_type": "code",
   "execution_count": null,
   "metadata": {
    "deletable": false,
    "nbgrader": {
     "cell_type": "code",
     "checksum": "3aaf3a45eb8d36949f9e02fcb3dfea97",
     "grade": true,
     "grade_id": "cell-b485c10ffce5955c",
     "locked": false,
     "points": 5,
     "schema_version": 3,
     "solution": true,
     "task": false
    }
   },
   "outputs": [],
   "source": [
    "# YOUR CODE HERE\n",
    "raise NotImplementedError()"
   ]
  },
  {
   "cell_type": "markdown",
   "metadata": {
    "deletable": false,
    "editable": false,
    "nbgrader": {
     "cell_type": "markdown",
     "checksum": "ce0ff1f313f756be08f5e6f6c4a9f356",
     "grade": false,
     "grade_id": "cell-3c0ae5fb02e6f352",
     "locked": true,
     "schema_version": 3,
     "solution": false,
     "task": false
    }
   },
   "source": [
    "Document your decision and describe the resulting visualisation. In your answer, cover the following aspects by referring explicitly to Saket et al. (2019):\n",
    "\n",
    "* What is the task according to Saket et al. (2019) on the combined data set supported by the chosen visualisation?\n",
    "* Why is the chosen visualisation effective for the given task?\n",
    "* What does the visualisation show exactly?\n",
    "* What does the visualisation contribute to answering your project's questions?"
   ]
  },
  {
   "cell_type": "markdown",
   "metadata": {
    "deletable": false,
    "nbgrader": {
     "cell_type": "markdown",
     "checksum": "93cf6e7530dfb8ecc91c0f6b7496d1d6",
     "grade": true,
     "grade_id": "cell-bde7e30e877919a8",
     "locked": false,
     "points": 2,
     "schema_version": 3,
     "solution": true,
     "task": false
    }
   },
   "source": [
    "YOUR ANSWER HERE"
   ]
  },
  {
   "cell_type": "markdown",
   "metadata": {
    "deletable": false,
    "editable": false,
    "nbgrader": {
     "cell_type": "markdown",
     "checksum": "3c527eeae484320ff379c8835a02686a",
     "grade": false,
     "grade_id": "cell-1c3320479f4749e1",
     "locked": true,
     "schema_version": 3,
     "solution": false,
     "task": false
    }
   },
   "source": [
    "-----\n",
    "## Step 4  (1 points)\n",
    "\n",
    "Persist the merged dataset from Step 3 as a file."
   ]
  },
  {
   "cell_type": "code",
   "execution_count": null,
   "metadata": {
    "deletable": false,
    "nbgrader": {
     "cell_type": "code",
     "checksum": "6cafab2e2a0caec0b47775cd216004fc",
     "grade": true,
     "grade_id": "cell-7df195f7e47ef8d0",
     "locked": false,
     "points": 1,
     "schema_version": 3,
     "solution": true,
     "task": false
    }
   },
   "outputs": [],
   "source": [
    "# YOUR CODE HERE\n",
    "raise NotImplementedError()"
   ]
  }
 ],
 "metadata": {
  "kernelspec": {
   "display_name": "Python 3 (ipykernel)",
   "language": "python",
   "name": "python3"
  },
  "language_info": {
   "codemirror_mode": {
    "name": "ipython",
    "version": 3
   },
   "file_extension": ".py",
   "mimetype": "text/x-python",
   "name": "python",
   "nbconvert_exporter": "python",
   "pygments_lexer": "ipython3",
   "version": "3.12.9"
  }
 },
 "nbformat": 4,
 "nbformat_minor": 4
}
